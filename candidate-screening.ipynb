{
  "nbformat": 4,
  "nbformat_minor": 0,
  "metadata": {
    "colab": {
      "name": "Untitled",
      "provenance": [],
      "private_outputs": true,
      "collapsed_sections": [],
      "include_colab_link": true
    },
    "kernelspec": {
      "name": "python3",
      "display_name": "Python 3"
    }
  },
  "cells": [
    {
      "cell_type": "markdown",
      "metadata": {
        "id": "view-in-github",
        "colab_type": "text"
      },
      "source": [
        "<a href=\"https://colab.research.google.com/github/arohanajit/candidate-screening-system/blob/master/candidate-screening.ipynb\" target=\"_parent\"><img src=\"https://colab.research.google.com/assets/colab-badge.svg\" alt=\"Open In Colab\"/></a>"
      ]
    },
    {
      "cell_type": "code",
      "metadata": {
        "id": "ImHhKjmjytnN",
        "colab_type": "code",
        "colab": {}
      },
      "source": [
        "import numpy as np\n",
        "import pandas as pd\n",
        "from zipfile import ZipFile\n",
        "import os\n",
        "import sklearn\n",
        "from sklearn import preprocessing\n",
        "from google.colab import files"
      ],
      "execution_count": 0,
      "outputs": []
    },
    {
      "cell_type": "code",
      "metadata": {
        "id": "a0BVGU2vfDo6",
        "colab_type": "code",
        "colab": {}
      },
      "source": [
        "role = input(\"Enter Role for potential Candidate(Web/ML): \")\n",
        "while(role!='Web' and role!='ML'):\n",
        "    print(\"Invalid Input: Try Again\")\n",
        "    role = input(\"Enter Role for potential Candidate(Web/ML): \")\n",
        "print(\"Sucessful!\")\n",
        "vacancy = int(input(\"Enter no. of vacancies: \"))"
      ],
      "execution_count": 0,
      "outputs": []
    },
    {
      "cell_type": "code",
      "metadata": {
        "id": "xff4t3xOy31D",
        "colab_type": "code",
        "colab": {}
      },
      "source": [
        "if 'mavoix.xlsx' not in os.listdir():\n",
        "    #uploaded = files.upload()\n",
        "    #for fn in uploaded.keys():\n",
        "        # print('User uploaded file \"{name}\" with length {length} bytes'.format(\n",
        "        # name=fn, length=len(uploaded[fn])))\n",
        "    os.system('wget https://raw.githubusercontent.com/arohanajit/candidate-screening-system/master/mavoix.xlsx')\n",
        "    print('dataset downloaded.')\n",
        "else:\n",
        "    print('dataset present')"
      ],
      "execution_count": 0,
      "outputs": []
    },
    {
      "cell_type": "code",
      "metadata": {
        "id": "yBD2QoFzzLAn",
        "colab_type": "code",
        "colab": {}
      },
      "source": [
        "df = pd.read_excel('mavoix.xlsx')\n",
        "ID = list(df['Application_ID'])\n",
        "df = df.drop(['Application_ID'],axis=1)\n",
        "df = df.drop(['Unnamed: 10'],axis=1)\n",
        "df = df.fillna('0')\n",
        "df = df.replace('Banglore','Bangalore')\n",
        "df.head()"
      ],
      "execution_count": 0,
      "outputs": []
    },
    {
      "cell_type": "code",
      "metadata": {
        "id": "MV0dNhjOcb4U",
        "colab_type": "code",
        "colab": {}
      },
      "source": [
        "for i in list(df.columns):\n",
        "    if '(out of 3)' in i:\n",
        "        j=i.strip('(out of 3)')\n",
        "        df.rename(columns = {i:j}, inplace=True)"
      ],
      "execution_count": 0,
      "outputs": []
    },
    {
      "cell_type": "code",
      "metadata": {
        "id": "_nJOfYvEgWWa",
        "colab_type": "code",
        "colab": {}
      },
      "source": [
        "def clean(x):\n",
        "    x = x.split(',')\n",
        "    return len(x)\n",
        "\n",
        "df['Other skills'] = df['Other skills'].apply(clean)"
      ],
      "execution_count": 0,
      "outputs": []
    },
    {
      "cell_type": "code",
      "metadata": {
        "id": "1tkzGdz14P9U",
        "colab_type": "code",
        "colab": {}
      },
      "source": [
        "df['Stream'] = df['Stream'].str.lower()\n",
        "def clean(x):\n",
        "    if 'computer' in x:\n",
        "        if len(x.split(\" \")) > 2:\n",
        "            x = x.replace(x,'computer science')\n",
        "    if 'mca' in x:\n",
        "        x = x.replace(x,'computer application')\n",
        "    if 'it' in x:\n",
        "        x = x.replace(x,'information technology')\n",
        "    if 'cs' in x:\n",
        "        x = x.replace(x,'computer science')\n",
        "    return x\n",
        "df['Stream'] = df['Stream'].apply(clean)"
      ],
      "execution_count": 0,
      "outputs": []
    },
    {
      "cell_type": "code",
      "metadata": {
        "id": "XpGoSpAxi4g2",
        "colab_type": "code",
        "colab": {}
      },
      "source": [
        "def clean(x):\n",
        "    if '/' in x:\n",
        "        total = float(x[x.index('/')+1:])\n",
        "        score = float(x[:x.index('/')])\n",
        "        if total==10:\n",
        "            score*=9.5\n",
        "        return score\n",
        "    else:\n",
        "        return 0\n",
        "df['Performance_UG'] = df['Performance_UG'].apply(clean)\n",
        "df['Performance_PG'] = df['Performance_PG'].apply(clean)\n",
        "df['Performance_12'] = df['Performance_12'].apply(clean)\n",
        "df['Performance_10'] = df['Performance_10'].apply(clean)"
      ],
      "execution_count": 0,
      "outputs": []
    },
    {
      "cell_type": "code",
      "metadata": {
        "id": "tWDUsERyCTxN",
        "colab_type": "code",
        "colab": {}
      },
      "source": [
        "ccity = df['Current City'].unique()\n",
        "grad_year = df['Current Year Of Graduation'].unique()\n",
        "degree = df['Degree'].unique()\n",
        "stream = df['Stream'].unique()"
      ],
      "execution_count": 0,
      "outputs": []
    },
    {
      "cell_type": "code",
      "metadata": {
        "id": "ZbT-zTwvg_ND",
        "colab_type": "code",
        "colab": {}
      },
      "source": [
        "min_max_scaler = preprocessing.MinMaxScaler(feature_range =(0, 1)) \n",
        "label_col = ['Current City','Degree','Stream','Current Year Of Graduation']\n",
        "col_to_be_scaled = list(set(list(df.columns)) - set(label_col))\n",
        "print(col_to_be_scaled)\n",
        "df[col_to_be_scaled] = min_max_scaler.fit_transform(df[col_to_be_scaled])\n",
        "df.head()"
      ],
      "execution_count": 0,
      "outputs": []
    },
    {
      "cell_type": "code",
      "metadata": {
        "id": "CN4A3JH8hBV1",
        "colab_type": "code",
        "colab": {}
      },
      "source": [
        "#For DataScience\n",
        "if role=='ML':\n",
        "    pref_cities = {'Bangalore':4,'Hyderabad':2,'Visakhapatnam':2}\n",
        "    pref_cities = dict(sorted(pref_cities.items(), key=lambda x: x[1], reverse=True))\n",
        "    pref_degree = {'Science':1,'Technology':1,'Computer':2,'Data':3,'Analytics':3,'Tech':1}\n",
        "    pref_degree = dict(sorted(pref_degree.items(), key=lambda x: x[1], reverse=True))\n",
        "    pref_stream = {'computer':2,'data':3,'artificial':4,'machine':4,'deep':4,'information':2,'electronics':1}\n",
        "    pref_stream = dict(sorted(pref_stream.items(), key=lambda x: x[1], reverse=True))\n",
        "    pref_skills = {'Python':8,'R Programming':6,'Deep Learning':10,'PHP':3,'MySQL':5,'HTML':3,'CSS':3,'JavaScrip':3,'AJAX':3,\n",
        "                'Bootstrap':3,'MongoDB':5,'Node.js':3,'ReactJS':3}\n",
        "    pref_skills = dict(sorted(pref_skills.items(), key=lambda x: x[1], reverse=True))\n",
        "    pref_gradyr = {2017: 2, 2019: 3, 2018: 3, 2020: 5, 2021: 5, 2016: 2, 2015: 2, 2022: 4, 2012: 2, 2013: 2, 2008: 1, 2007: 1, 2014: 1, 2006: 1, 2004: 1, 2023: 3}\n",
        "    pref_gradyr = dict(sorted(pref_gradyr.items(), key=lambda x: x[1], reverse=True))\n",
        "elif role=='Web':\n",
        "    pref_cities = {'Bangalore':4,'Hyderabad':2,'Visakhapatnam':2}\n",
        "    pref_cities = dict(sorted(pref_cities.items(), key=lambda x: x[1], reverse=True))\n",
        "    pref_degree = {'Science':3,'Technology':3,'Computer':3,'Data':2,'Analytics':2,'Tech':3}\n",
        "    pref_degree = dict(sorted(pref_degree.items(), key=lambda x: x[1], reverse=True))\n",
        "    pref_stream = {'computer':4,'data':3,'artificial':3,'machine':3,'deep':3,'information':4,'electronics':4}\n",
        "    pref_stream = dict(sorted(pref_stream.items(), key=lambda x: x[1], reverse=True))\n",
        "    pref_skills = {'Python':7,'R Programming':3,'Deep Learning':3,'PHP':7,'MySQL':7,'HTML':5,'CSS':6,'JavaScrip':8,'AJAX':8,\n",
        "                'Bootstrap':6,'MongoDB':8,'Node.js':10,'ReactJS':10}\n",
        "    pref_skills = dict(sorted(pref_skills.items(), key=lambda x: x[1], reverse=True))\n",
        "    pref_gradyr = {2017: 2, 2019: 3, 2018: 3, 2020: 5, 2021: 5, 2016: 2, 2015: 2, 2022: 4, 2012: 2, 2013: 2, 2008: 1, 2007: 1, 2014: 1, 2006: 1, 2004: 1, 2023: 3}\n",
        "    pref_gradyr = dict(sorted(pref_gradyr.items(), key=lambda x: x[1], reverse=True))"
      ],
      "execution_count": 0,
      "outputs": []
    },
    {
      "cell_type": "code",
      "metadata": {
        "id": "pK5k8MW8OKJB",
        "colab_type": "code",
        "colab": {}
      },
      "source": [
        "cols = list(df.columns)\n",
        "print(cols)\n",
        "if 'Bangalore' in list(pref_cities.keys()):\n",
        "    print('yes')"
      ],
      "execution_count": 0,
      "outputs": []
    },
    {
      "cell_type": "code",
      "metadata": {
        "id": "FZGOwk7zROlJ",
        "colab_type": "code",
        "colab": {}
      },
      "source": [
        "def giveScore(n,m,x):\n",
        "    temp1 = n&m\n",
        "    val = []\n",
        "    for i in temp1:\n",
        "        if x==1:\n",
        "            val.append(pref_degree[i])\n",
        "        else:\n",
        "            val.append(pref_stream[i])\n",
        "    if val:\n",
        "        return max(val)\n",
        "    else:\n",
        "        return 0"
      ],
      "execution_count": 0,
      "outputs": []
    },
    {
      "cell_type": "code",
      "metadata": {
        "id": "nEF-G6y8cwLh",
        "colab_type": "code",
        "colab": {}
      },
      "source": [
        "a = df.iloc[1]\n",
        "print(a['Current Year Of Graduation'])\n",
        "print(pref_gradyr[a['Current Year Of Graduation']])"
      ],
      "execution_count": 0,
      "outputs": []
    },
    {
      "cell_type": "code",
      "metadata": {
        "id": "Qh1RZxzRJamw",
        "colab_type": "code",
        "colab": {}
      },
      "source": [
        "total_score = []\n",
        "for _,j in df.iterrows():\n",
        "    Score = 0\n",
        "    if j['Current City'] in list(pref_cities.keys()):\n",
        "        Score+=pref_cities[j['Current City']]\n",
        "    for i in list(pref_skills.keys()):\n",
        "        Score+=j[i]*pref_skills[i]\n",
        "    Score+=0.3*j['Other skills']\n",
        "    temp1 = (set(j['Degree'].split(\" \"))&set(pref_degree.keys()))\n",
        "    Score+=giveScore(set(j['Degree'].split(\" \")),set(pref_degree.keys()),1)\n",
        "    Score+=giveScore(set(j['Stream'].split(\" \")),set(pref_stream.keys()),2)\n",
        "    Score+=j['Performance_PG']*5\n",
        "    Score+=j['Performance_UG']*5\n",
        "    Score+=j['Performance_12']*4\n",
        "    Score+=j['Performance_10']*3\n",
        "    Score+=pref_gradyr[j['Current Year Of Graduation']]\n",
        "\n",
        "    total_score.append(Score)\n",
        "\n",
        "df[\"Candidate Score\"] = total_score\n",
        "    \n",
        "\n"
      ],
      "execution_count": 0,
      "outputs": []
    },
    {
      "cell_type": "code",
      "metadata": {
        "id": "7ic_MSIHCvF9",
        "colab_type": "code",
        "colab": {}
      },
      "source": [
        "df.insert(0,column=\"Application_ID\",value=ID)\n",
        "df = df.sort_values(by=['Candidate Score'],ascending=False)\n",
        "df.head()"
      ],
      "execution_count": 0,
      "outputs": []
    },
    {
      "cell_type": "code",
      "metadata": {
        "id": "FzTzPm0XZz4i",
        "colab_type": "code",
        "colab": {}
      },
      "source": [
        "print(\"Top {} recommened candidates for {} are: {}\".format(vacancy,role,list(df.iloc[:vacancy]['Application_ID'])))"
      ],
      "execution_count": 0,
      "outputs": []
    },
    {
      "cell_type": "code",
      "metadata": {
        "id": "Rjv3Ipr-jG1u",
        "colab_type": "code",
        "colab": {}
      },
      "source": [
        ""
      ],
      "execution_count": 0,
      "outputs": []
    }
  ]
}